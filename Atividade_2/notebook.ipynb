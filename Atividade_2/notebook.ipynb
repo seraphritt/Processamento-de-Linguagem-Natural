{
  "nbformat": 4,
  "nbformat_minor": 0,
  "metadata": {
    "colab": {
      "provenance": []
    },
    "kernelspec": {
      "name": "python3",
      "display_name": "Python 3"
    },
    "language_info": {
      "name": "python"
    }
  },
  "cells": [
    {
      "cell_type": "markdown",
      "source": [
        "# Instação de pacotes necessários"
      ],
      "metadata": {
        "id": "t3eq_B5qaQfn"
      }
    },
    {
      "cell_type": "code",
      "source": [
        "!pip install tiktoken\n",
        "!pip install torch"
      ],
      "metadata": {
        "colab": {
          "base_uri": "https://localhost:8080/"
        },
        "id": "VqCdJ6LWaKRT",
        "outputId": "b25f5551-5c04-473c-c51f-071f8907b003"
      },
      "execution_count": 2,
      "outputs": [
        {
          "output_type": "stream",
          "name": "stdout",
          "text": [
            "Collecting tiktoken\n",
            "  Downloading tiktoken-0.8.0-cp310-cp310-manylinux_2_17_x86_64.manylinux2014_x86_64.whl.metadata (6.6 kB)\n",
            "Requirement already satisfied: regex>=2022.1.18 in /usr/local/lib/python3.10/dist-packages (from tiktoken) (2024.9.11)\n",
            "Requirement already satisfied: requests>=2.26.0 in /usr/local/lib/python3.10/dist-packages (from tiktoken) (2.32.3)\n",
            "Requirement already satisfied: charset-normalizer<4,>=2 in /usr/local/lib/python3.10/dist-packages (from requests>=2.26.0->tiktoken) (3.4.0)\n",
            "Requirement already satisfied: idna<4,>=2.5 in /usr/local/lib/python3.10/dist-packages (from requests>=2.26.0->tiktoken) (3.10)\n",
            "Requirement already satisfied: urllib3<3,>=1.21.1 in /usr/local/lib/python3.10/dist-packages (from requests>=2.26.0->tiktoken) (2.2.3)\n",
            "Requirement already satisfied: certifi>=2017.4.17 in /usr/local/lib/python3.10/dist-packages (from requests>=2.26.0->tiktoken) (2024.8.30)\n",
            "Downloading tiktoken-0.8.0-cp310-cp310-manylinux_2_17_x86_64.manylinux2014_x86_64.whl (1.2 MB)\n",
            "\u001b[?25l   \u001b[90m━━━━━━━━━━━━━━━━━━━━━━━━━━━━━━━━━━━━━━━━\u001b[0m \u001b[32m0.0/1.2 MB\u001b[0m \u001b[31m?\u001b[0m eta \u001b[36m-:--:--\u001b[0m\r\u001b[2K   \u001b[91m━━━━━\u001b[0m\u001b[90m╺\u001b[0m\u001b[90m━━━━━━━━━━━━━━━━━━━━━━━━━━━━━━━━━━\u001b[0m \u001b[32m0.2/1.2 MB\u001b[0m \u001b[31m4.8 MB/s\u001b[0m eta \u001b[36m0:00:01\u001b[0m\r\u001b[2K   \u001b[91m━━━━━━━━━━━━━━━━━━━━━━━━━━━━━━━━━━━━━━━\u001b[0m\u001b[91m╸\u001b[0m \u001b[32m1.2/1.2 MB\u001b[0m \u001b[31m17.0 MB/s\u001b[0m eta \u001b[36m0:00:01\u001b[0m\r\u001b[2K   \u001b[90m━━━━━━━━━━━━━━━━━━━━━━━━━━━━━━━━━━━━━━━━\u001b[0m \u001b[32m1.2/1.2 MB\u001b[0m \u001b[31m13.5 MB/s\u001b[0m eta \u001b[36m0:00:00\u001b[0m\n",
            "\u001b[?25hInstalling collected packages: tiktoken\n",
            "Successfully installed tiktoken-0.8.0\n",
            "Requirement already satisfied: torch in /usr/local/lib/python3.10/dist-packages (2.5.0+cu121)\n",
            "Requirement already satisfied: filelock in /usr/local/lib/python3.10/dist-packages (from torch) (3.16.1)\n",
            "Requirement already satisfied: typing-extensions>=4.8.0 in /usr/local/lib/python3.10/dist-packages (from torch) (4.12.2)\n",
            "Requirement already satisfied: networkx in /usr/local/lib/python3.10/dist-packages (from torch) (3.4.2)\n",
            "Requirement already satisfied: jinja2 in /usr/local/lib/python3.10/dist-packages (from torch) (3.1.4)\n",
            "Requirement already satisfied: fsspec in /usr/local/lib/python3.10/dist-packages (from torch) (2024.10.0)\n",
            "Requirement already satisfied: sympy==1.13.1 in /usr/local/lib/python3.10/dist-packages (from torch) (1.13.1)\n",
            "Requirement already satisfied: mpmath<1.4,>=1.1.0 in /usr/local/lib/python3.10/dist-packages (from sympy==1.13.1->torch) (1.3.0)\n",
            "Requirement already satisfied: MarkupSafe>=2.0 in /usr/local/lib/python3.10/dist-packages (from jinja2->torch) (3.0.2)\n"
          ]
        }
      ]
    },
    {
      "cell_type": "markdown",
      "source": [
        "# Geração de Texto\n",
        "Primeiramente é necessário usar os dados de treinamento para tokenizar, criar os bigramas e calcular as probabilidades."
      ],
      "metadata": {
        "id": "dOFtYYgMZVRc"
      }
    },
    {
      "cell_type": "code",
      "execution_count": 5,
      "metadata": {
        "colab": {
          "base_uri": "https://localhost:8080/"
        },
        "id": "wCVZZhw_VZ7r",
        "outputId": "78c16c59-b634-4ef3-b96c-0574804adac9"
      },
      "outputs": [
        {
          "output_type": "stream",
          "name": "stdout",
          "text": [
            "Arquivos extraídos para corpus_extracted\n",
            "Número de arquivos extraídos: 10000\n",
            "Arquivo de texto sum_corpus_train.txt criado\n"
          ]
        }
      ],
      "source": [
        "import tiktoken\n",
        "import read_files\n",
        "import os\n",
        "import torch\n",
        "import train_set\n",
        "import generate_bigrams\n",
        "import predict_function\n",
        "import random\n",
        "import perplexity\n",
        "\n",
        "# gerando conjunto de treinamento\n",
        "name_train = \"sum_corpus_train.txt\"\n",
        "train_set.create_train_file(name_train, 8000) # 80% reservado para treino\n",
        "with open(name_train, \"r\", encoding=\"utf-8\") as file: # abre o arquivo sum_corpus.txt e lê o seu conteúdo\n",
        "    whole_txt = file.read()\n"
      ]
    },
    {
      "cell_type": "markdown",
      "source": [
        "# Tokenização e geração de bigramas\n",
        "Após a criação do conjunto de treinamento, é possível tokenizar o conjunto de treinamento utilizando a biblioteca Tiktoken e gerar os bigramas"
      ],
      "metadata": {
        "id": "axZl_vZVds6R"
      }
    },
    {
      "cell_type": "code",
      "source": [
        "encoding = tiktoken.get_encoding(\"cl100k_base\") # base do gpt-4-turbo, gpt-4, gpt-3.5-turbo\n",
        "lista_sent = encoding.encode(whole_txt)\n",
        "bigrams = generate_bigrams.generate_bigrams(lista_sent)\n",
        "g = torch.Generator().manual_seed(309400321)    # definindo seed para o gerador randômico"
      ],
      "metadata": {
        "id": "j3-osuCqdmHX"
      },
      "execution_count": 6,
      "outputs": []
    },
    {
      "cell_type": "markdown",
      "source": [
        "# Geração de texto\n",
        "A partir de um texto ou palavra inicial, pode-se prever a próxima palavra usando os bigramas e suas probabilidades"
      ],
      "metadata": {
        "id": "M5B2cEEbeQyK"
      }
    },
    {
      "cell_type": "code",
      "source": [
        "previous_token = encoding.encode(\"Quantos\") # tokens iniciais para a predição do modelo bigram\n",
        "# predicting 40 tokens\n",
        "predicted = predict_function.predict(50, bigrams, previous_token, g)\n",
        "print(encoding.decode(predicted))"
      ],
      "metadata": {
        "colab": {
          "base_uri": "https://localhost:8080/"
        },
        "id": "j4V3Wj6teOWY",
        "outputId": "eb7a5962-ed6f-4e66-9ef5-91fa23183a9c"
      },
      "execution_count": 18,
      "outputs": [
        {
          "output_type": "stream",
          "name": "stdout",
          "text": [
            "Quantos meses ou Estado ==== Brussel Sí do Com a manchfn81 || Sociedades escarpin Me to Síncia foi inclu abra arcochoso relva e alguma ionização é empates da posse\n"
          ]
        }
      ]
    },
    {
      "cell_type": "markdown",
      "source": [
        "# Cálculo da Perplexidade\n",
        "Devido ao elevado custo computacional do cálculo da perplexidade foi possível calcular a perplexidade com apenas 5 arquivos (selecionados de forma aleatória do conjunto de testes).\n",
        "\n",
        "A fórmula utilizada para o cálculo da perplexidade foi a seguinte:\n",
        "![1_nYdAKtgkpz95DQVsaHKa6A.png](data:image/png;base64,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)"
      ],
      "metadata": {
        "id": "KhDQN8YMe2ap"
      }
    },
    {
      "cell_type": "code",
      "source": [
        "lista_path = os.listdir(\"corpus_extracted\")\n",
        "random_int_list = random.sample(range(8000, len(lista_path)), 5) # lista com 5 inteiros únicos de 8000 até 10000\n",
        "# pega um arquivo entre os 2000 arquivos restantes pertencentes ao conjunto de teste\n",
        "whole_txt = \"\"\n",
        "for idx in random_int_list:\n",
        "    whole_txt += \" \" + read_files.read_json(\"corpus_extracted/\" + lista_path[idx])[\"text\"]\n",
        "lista_sent = encoding.encode(whole_txt)\n",
        "print(f\"Perplexidade: {perplexity.calculate(lista_sent, bigrams)}\")"
      ],
      "metadata": {
        "colab": {
          "base_uri": "https://localhost:8080/"
        },
        "id": "D28EOYvVgR-V",
        "outputId": "355a25ee-9e22-473c-bfd3-9bb4d9c46302"
      },
      "execution_count": 23,
      "outputs": [
        {
          "output_type": "stream",
          "name": "stdout",
          "text": [
            "Perplexidade: 50.52241234634587\n"
          ]
        }
      ]
    }
  ]
}