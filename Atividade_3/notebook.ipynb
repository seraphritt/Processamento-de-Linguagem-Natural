{
  "nbformat": 4,
  "nbformat_minor": 0,
  "metadata": {
    "colab": {
      "provenance": []
    },
    "kernelspec": {
      "name": "python3",
      "display_name": "Python 3"
    },
    "language_info": {
      "name": "python"
    }
  },
  "cells": [
    {
      "cell_type": "markdown",
      "source": [
        "# Instalação dos pacotes Python necessários\n",
        "Primeiramente, é preciso instalar o sklearn e o pandas"
      ],
      "metadata": {
        "id": "zQPN76FPw0XZ"
      }
    },
    {
      "cell_type": "code",
      "execution_count": null,
      "metadata": {
        "colab": {
          "base_uri": "https://localhost:8080/"
        },
        "id": "LNxoolx8v43l",
        "outputId": "a5ffe621-a1ed-4627-d01f-409ec8a26f4e"
      },
      "outputs": [
        {
          "output_type": "stream",
          "name": "stdout",
          "text": [
            "Requirement already satisfied: scikit-learn in /usr/local/lib/python3.10/dist-packages (1.5.2)\n",
            "Requirement already satisfied: numpy>=1.19.5 in /usr/local/lib/python3.10/dist-packages (from scikit-learn) (1.26.4)\n",
            "Requirement already satisfied: scipy>=1.6.0 in /usr/local/lib/python3.10/dist-packages (from scikit-learn) (1.13.1)\n",
            "Requirement already satisfied: joblib>=1.2.0 in /usr/local/lib/python3.10/dist-packages (from scikit-learn) (1.4.2)\n",
            "Requirement already satisfied: threadpoolctl>=3.1.0 in /usr/local/lib/python3.10/dist-packages (from scikit-learn) (3.5.0)\n"
          ]
        }
      ],
      "source": [
        "!pip install scikit-learn"
      ]
    },
    {
      "cell_type": "code",
      "source": [
        "!pip install pandas"
      ],
      "metadata": {
        "colab": {
          "base_uri": "https://localhost:8080/"
        },
        "id": "RN7c5TQPxDJs",
        "outputId": "74486505-9992-4a8f-d151-18e6d2267387"
      },
      "execution_count": null,
      "outputs": [
        {
          "output_type": "stream",
          "name": "stdout",
          "text": [
            "Requirement already satisfied: pandas in /usr/local/lib/python3.10/dist-packages (2.2.2)\n",
            "Requirement already satisfied: numpy>=1.22.4 in /usr/local/lib/python3.10/dist-packages (from pandas) (1.26.4)\n",
            "Requirement already satisfied: python-dateutil>=2.8.2 in /usr/local/lib/python3.10/dist-packages (from pandas) (2.8.2)\n",
            "Requirement already satisfied: pytz>=2020.1 in /usr/local/lib/python3.10/dist-packages (from pandas) (2024.2)\n",
            "Requirement already satisfied: tzdata>=2022.7 in /usr/local/lib/python3.10/dist-packages (from pandas) (2024.2)\n",
            "Requirement already satisfied: six>=1.5 in /usr/local/lib/python3.10/dist-packages (from python-dateutil>=2.8.2->pandas) (1.16.0)\n"
          ]
        }
      ]
    },
    {
      "cell_type": "markdown",
      "source": [
        "# Carregamento dos dados e vetorização\n",
        "Após isso, carrega-se os dados da base **classic4.csv** e o texto dessa base é vetorizada.\n"
      ],
      "metadata": {
        "id": "libCxFlPxb-t"
      }
    },
    {
      "cell_type": "code",
      "source": [
        "import utils\n",
        "from sklearn import metrics\n",
        "from sklearn.metrics import confusion_matrix\n",
        "from sklearn.metrics import f1_score\n",
        "from sklearn.model_selection import train_test_split\n",
        "import pandas as pd\n",
        "from sklearn import linear_model\n",
        "from sklearn import svm\n",
        "from sklearn.naive_bayes import MultinomialNB\n",
        "from sklearn.ensemble import RandomForestClassifier\n",
        "import matplotlib.pyplot as plt\n",
        "import seaborn as sns\n",
        "# lendo csv\n",
        "df = utils.read_csv(\"classic4.csv\")\n",
        "# divide a base de dados em 80% train e 20% test\n",
        "x_train, x_test = train_test_split(df, test_size=0.2, stratify=df['class'])\n",
        "\n",
        "categories_on_df = list(set(df['class']))   # pega todas as categorias da base de dados\n",
        "dict_cats = {y: x for x, y in enumerate(categories_on_df)}\n",
        "lista_cats = list(dict_cats.keys())\n",
        "print(lista_cats)\n",
        "print(f\"Numero de classes: {len(lista_cats)}\")\n",
        "\n",
        "x_train_tf, x_test_tf = utils.occ_vectorizer(x_train['text'], x_test['text'])"
      ],
      "metadata": {
        "colab": {
          "base_uri": "https://localhost:8080/"
        },
        "id": "PWENkCISyNFV",
        "outputId": "a59bc636-8f6a-40fe-d992-016058683da0"
      },
      "execution_count": 4,
      "outputs": [
        {
          "output_type": "stream",
          "name": "stdout",
          "text": [
            "['med', 'cran', 'cisi', 'cacm']\n",
            "Numero de classes: 4\n"
          ]
        }
      ]
    },
    {
      "cell_type": "markdown",
      "source": [
        "# TFIDF\n",
        "Após a vetorização, conta-se o número de ocorrências de cada termo em um documento em relação a toda a base de dados. Essa medida estatística é conhecida como **TFIDF** (Term Frequency-Inverse Document Frequency)"
      ],
      "metadata": {
        "id": "bZ_4KHlRymU9"
      }
    },
    {
      "cell_type": "code",
      "source": [
        "from sklearn.feature_extraction.text import TfidfTransformer\n",
        "tfidf_t = TfidfTransformer()\n",
        "xtrain_tfidf, xtest_tfidf = utils.tfidif(x_train_tf, x_test_tf)\n",
        "\n",
        "y_train = utils.get_ytrain(x_train['class'], dict_cats)\n",
        "y_test = utils.get_ytest(x_test['class'], dict_cats)"
      ],
      "metadata": {
        "id": "OxlTfJe1zGoH"
      },
      "execution_count": 5,
      "outputs": []
    },
    {
      "cell_type": "markdown",
      "source": [
        "# Melhores resultados do Grid Search\n",
        "Iremos utilizar os melhores hiperparâmetros definidos pelo GridSearch para cada um desses três modelos: Multinomial Naive Bayes, Random Forest e Logistic Regression"
      ],
      "metadata": {
        "id": "Gc8MJNZt-5ge"
      }
    },
    {
      "cell_type": "code",
      "source": [
        "csv_file_path = \"Grid_Search_Results.csv\"\n",
        "\n",
        "df = pd.read_csv(csv_file_path)\n",
        "\n",
        "df"
      ],
      "metadata": {
        "colab": {
          "base_uri": "https://localhost:8080/",
          "height": 143
        },
        "id": "__6f7AYH_Pb0",
        "outputId": "d6969beb-5841-4805-dee0-952aa649ae73"
      },
      "execution_count": 6,
      "outputs": [
        {
          "output_type": "execute_result",
          "data": {
            "text/plain": [
              "                 Model  Best Score  \\\n",
              "0        Random Forest    0.930299   \n",
              "1  Logistic Regression    0.958253   \n",
              "2          Naive Bayes    0.961453   \n",
              "\n",
              "                                     Best Parameters  Test Set f1_macro  \n",
              "0  {'max_depth': None, 'min_samples_leaf': 1, 'mi...           0.945736  \n",
              "1      {'C': 1.0, 'penalty': 'l2', 'solver': 'saga'}           0.965469  \n",
              "2  {'alpha': 0.1, 'fit_prior': True, 'force_alpha...           0.967583  "
            ],
            "text/html": [
              "\n",
              "  <div id=\"df-dd1047a0-2f3c-4e2e-95b9-4b8e580e112f\" class=\"colab-df-container\">\n",
              "    <div>\n",
              "<style scoped>\n",
              "    .dataframe tbody tr th:only-of-type {\n",
              "        vertical-align: middle;\n",
              "    }\n",
              "\n",
              "    .dataframe tbody tr th {\n",
              "        vertical-align: top;\n",
              "    }\n",
              "\n",
              "    .dataframe thead th {\n",
              "        text-align: right;\n",
              "    }\n",
              "</style>\n",
              "<table border=\"1\" class=\"dataframe\">\n",
              "  <thead>\n",
              "    <tr style=\"text-align: right;\">\n",
              "      <th></th>\n",
              "      <th>Model</th>\n",
              "      <th>Best Score</th>\n",
              "      <th>Best Parameters</th>\n",
              "      <th>Test Set f1_macro</th>\n",
              "    </tr>\n",
              "  </thead>\n",
              "  <tbody>\n",
              "    <tr>\n",
              "      <th>0</th>\n",
              "      <td>Random Forest</td>\n",
              "      <td>0.930299</td>\n",
              "      <td>{'max_depth': None, 'min_samples_leaf': 1, 'mi...</td>\n",
              "      <td>0.945736</td>\n",
              "    </tr>\n",
              "    <tr>\n",
              "      <th>1</th>\n",
              "      <td>Logistic Regression</td>\n",
              "      <td>0.958253</td>\n",
              "      <td>{'C': 1.0, 'penalty': 'l2', 'solver': 'saga'}</td>\n",
              "      <td>0.965469</td>\n",
              "    </tr>\n",
              "    <tr>\n",
              "      <th>2</th>\n",
              "      <td>Naive Bayes</td>\n",
              "      <td>0.961453</td>\n",
              "      <td>{'alpha': 0.1, 'fit_prior': True, 'force_alpha...</td>\n",
              "      <td>0.967583</td>\n",
              "    </tr>\n",
              "  </tbody>\n",
              "</table>\n",
              "</div>\n",
              "    <div class=\"colab-df-buttons\">\n",
              "\n",
              "  <div class=\"colab-df-container\">\n",
              "    <button class=\"colab-df-convert\" onclick=\"convertToInteractive('df-dd1047a0-2f3c-4e2e-95b9-4b8e580e112f')\"\n",
              "            title=\"Convert this dataframe to an interactive table.\"\n",
              "            style=\"display:none;\">\n",
              "\n",
              "  <svg xmlns=\"http://www.w3.org/2000/svg\" height=\"24px\" viewBox=\"0 -960 960 960\">\n",
              "    <path d=\"M120-120v-720h720v720H120Zm60-500h600v-160H180v160Zm220 220h160v-160H400v160Zm0 220h160v-160H400v160ZM180-400h160v-160H180v160Zm440 0h160v-160H620v160ZM180-180h160v-160H180v160Zm440 0h160v-160H620v160Z\"/>\n",
              "  </svg>\n",
              "    </button>\n",
              "\n",
              "  <style>\n",
              "    .colab-df-container {\n",
              "      display:flex;\n",
              "      gap: 12px;\n",
              "    }\n",
              "\n",
              "    .colab-df-convert {\n",
              "      background-color: #E8F0FE;\n",
              "      border: none;\n",
              "      border-radius: 50%;\n",
              "      cursor: pointer;\n",
              "      display: none;\n",
              "      fill: #1967D2;\n",
              "      height: 32px;\n",
              "      padding: 0 0 0 0;\n",
              "      width: 32px;\n",
              "    }\n",
              "\n",
              "    .colab-df-convert:hover {\n",
              "      background-color: #E2EBFA;\n",
              "      box-shadow: 0px 1px 2px rgba(60, 64, 67, 0.3), 0px 1px 3px 1px rgba(60, 64, 67, 0.15);\n",
              "      fill: #174EA6;\n",
              "    }\n",
              "\n",
              "    .colab-df-buttons div {\n",
              "      margin-bottom: 4px;\n",
              "    }\n",
              "\n",
              "    [theme=dark] .colab-df-convert {\n",
              "      background-color: #3B4455;\n",
              "      fill: #D2E3FC;\n",
              "    }\n",
              "\n",
              "    [theme=dark] .colab-df-convert:hover {\n",
              "      background-color: #434B5C;\n",
              "      box-shadow: 0px 1px 3px 1px rgba(0, 0, 0, 0.15);\n",
              "      filter: drop-shadow(0px 1px 2px rgba(0, 0, 0, 0.3));\n",
              "      fill: #FFFFFF;\n",
              "    }\n",
              "  </style>\n",
              "\n",
              "    <script>\n",
              "      const buttonEl =\n",
              "        document.querySelector('#df-dd1047a0-2f3c-4e2e-95b9-4b8e580e112f button.colab-df-convert');\n",
              "      buttonEl.style.display =\n",
              "        google.colab.kernel.accessAllowed ? 'block' : 'none';\n",
              "\n",
              "      async function convertToInteractive(key) {\n",
              "        const element = document.querySelector('#df-dd1047a0-2f3c-4e2e-95b9-4b8e580e112f');\n",
              "        const dataTable =\n",
              "          await google.colab.kernel.invokeFunction('convertToInteractive',\n",
              "                                                    [key], {});\n",
              "        if (!dataTable) return;\n",
              "\n",
              "        const docLinkHtml = 'Like what you see? Visit the ' +\n",
              "          '<a target=\"_blank\" href=https://colab.research.google.com/notebooks/data_table.ipynb>data table notebook</a>'\n",
              "          + ' to learn more about interactive tables.';\n",
              "        element.innerHTML = '';\n",
              "        dataTable['output_type'] = 'display_data';\n",
              "        await google.colab.output.renderOutput(dataTable, element);\n",
              "        const docLink = document.createElement('div');\n",
              "        docLink.innerHTML = docLinkHtml;\n",
              "        element.appendChild(docLink);\n",
              "      }\n",
              "    </script>\n",
              "  </div>\n",
              "\n",
              "\n",
              "<div id=\"df-695a58af-1306-4bb5-90b1-cca3414eb571\">\n",
              "  <button class=\"colab-df-quickchart\" onclick=\"quickchart('df-695a58af-1306-4bb5-90b1-cca3414eb571')\"\n",
              "            title=\"Suggest charts\"\n",
              "            style=\"display:none;\">\n",
              "\n",
              "<svg xmlns=\"http://www.w3.org/2000/svg\" height=\"24px\"viewBox=\"0 0 24 24\"\n",
              "     width=\"24px\">\n",
              "    <g>\n",
              "        <path d=\"M19 3H5c-1.1 0-2 .9-2 2v14c0 1.1.9 2 2 2h14c1.1 0 2-.9 2-2V5c0-1.1-.9-2-2-2zM9 17H7v-7h2v7zm4 0h-2V7h2v10zm4 0h-2v-4h2v4z\"/>\n",
              "    </g>\n",
              "</svg>\n",
              "  </button>\n",
              "\n",
              "<style>\n",
              "  .colab-df-quickchart {\n",
              "      --bg-color: #E8F0FE;\n",
              "      --fill-color: #1967D2;\n",
              "      --hover-bg-color: #E2EBFA;\n",
              "      --hover-fill-color: #174EA6;\n",
              "      --disabled-fill-color: #AAA;\n",
              "      --disabled-bg-color: #DDD;\n",
              "  }\n",
              "\n",
              "  [theme=dark] .colab-df-quickchart {\n",
              "      --bg-color: #3B4455;\n",
              "      --fill-color: #D2E3FC;\n",
              "      --hover-bg-color: #434B5C;\n",
              "      --hover-fill-color: #FFFFFF;\n",
              "      --disabled-bg-color: #3B4455;\n",
              "      --disabled-fill-color: #666;\n",
              "  }\n",
              "\n",
              "  .colab-df-quickchart {\n",
              "    background-color: var(--bg-color);\n",
              "    border: none;\n",
              "    border-radius: 50%;\n",
              "    cursor: pointer;\n",
              "    display: none;\n",
              "    fill: var(--fill-color);\n",
              "    height: 32px;\n",
              "    padding: 0;\n",
              "    width: 32px;\n",
              "  }\n",
              "\n",
              "  .colab-df-quickchart:hover {\n",
              "    background-color: var(--hover-bg-color);\n",
              "    box-shadow: 0 1px 2px rgba(60, 64, 67, 0.3), 0 1px 3px 1px rgba(60, 64, 67, 0.15);\n",
              "    fill: var(--button-hover-fill-color);\n",
              "  }\n",
              "\n",
              "  .colab-df-quickchart-complete:disabled,\n",
              "  .colab-df-quickchart-complete:disabled:hover {\n",
              "    background-color: var(--disabled-bg-color);\n",
              "    fill: var(--disabled-fill-color);\n",
              "    box-shadow: none;\n",
              "  }\n",
              "\n",
              "  .colab-df-spinner {\n",
              "    border: 2px solid var(--fill-color);\n",
              "    border-color: transparent;\n",
              "    border-bottom-color: var(--fill-color);\n",
              "    animation:\n",
              "      spin 1s steps(1) infinite;\n",
              "  }\n",
              "\n",
              "  @keyframes spin {\n",
              "    0% {\n",
              "      border-color: transparent;\n",
              "      border-bottom-color: var(--fill-color);\n",
              "      border-left-color: var(--fill-color);\n",
              "    }\n",
              "    20% {\n",
              "      border-color: transparent;\n",
              "      border-left-color: var(--fill-color);\n",
              "      border-top-color: var(--fill-color);\n",
              "    }\n",
              "    30% {\n",
              "      border-color: transparent;\n",
              "      border-left-color: var(--fill-color);\n",
              "      border-top-color: var(--fill-color);\n",
              "      border-right-color: var(--fill-color);\n",
              "    }\n",
              "    40% {\n",
              "      border-color: transparent;\n",
              "      border-right-color: var(--fill-color);\n",
              "      border-top-color: var(--fill-color);\n",
              "    }\n",
              "    60% {\n",
              "      border-color: transparent;\n",
              "      border-right-color: var(--fill-color);\n",
              "    }\n",
              "    80% {\n",
              "      border-color: transparent;\n",
              "      border-right-color: var(--fill-color);\n",
              "      border-bottom-color: var(--fill-color);\n",
              "    }\n",
              "    90% {\n",
              "      border-color: transparent;\n",
              "      border-bottom-color: var(--fill-color);\n",
              "    }\n",
              "  }\n",
              "</style>\n",
              "\n",
              "  <script>\n",
              "    async function quickchart(key) {\n",
              "      const quickchartButtonEl =\n",
              "        document.querySelector('#' + key + ' button');\n",
              "      quickchartButtonEl.disabled = true;  // To prevent multiple clicks.\n",
              "      quickchartButtonEl.classList.add('colab-df-spinner');\n",
              "      try {\n",
              "        const charts = await google.colab.kernel.invokeFunction(\n",
              "            'suggestCharts', [key], {});\n",
              "      } catch (error) {\n",
              "        console.error('Error during call to suggestCharts:', error);\n",
              "      }\n",
              "      quickchartButtonEl.classList.remove('colab-df-spinner');\n",
              "      quickchartButtonEl.classList.add('colab-df-quickchart-complete');\n",
              "    }\n",
              "    (() => {\n",
              "      let quickchartButtonEl =\n",
              "        document.querySelector('#df-695a58af-1306-4bb5-90b1-cca3414eb571 button');\n",
              "      quickchartButtonEl.style.display =\n",
              "        google.colab.kernel.accessAllowed ? 'block' : 'none';\n",
              "    })();\n",
              "  </script>\n",
              "</div>\n",
              "\n",
              "  <div id=\"id_007e8ab0-e8b0-43ef-9e46-127c88df2cc1\">\n",
              "    <style>\n",
              "      .colab-df-generate {\n",
              "        background-color: #E8F0FE;\n",
              "        border: none;\n",
              "        border-radius: 50%;\n",
              "        cursor: pointer;\n",
              "        display: none;\n",
              "        fill: #1967D2;\n",
              "        height: 32px;\n",
              "        padding: 0 0 0 0;\n",
              "        width: 32px;\n",
              "      }\n",
              "\n",
              "      .colab-df-generate:hover {\n",
              "        background-color: #E2EBFA;\n",
              "        box-shadow: 0px 1px 2px rgba(60, 64, 67, 0.3), 0px 1px 3px 1px rgba(60, 64, 67, 0.15);\n",
              "        fill: #174EA6;\n",
              "      }\n",
              "\n",
              "      [theme=dark] .colab-df-generate {\n",
              "        background-color: #3B4455;\n",
              "        fill: #D2E3FC;\n",
              "      }\n",
              "\n",
              "      [theme=dark] .colab-df-generate:hover {\n",
              "        background-color: #434B5C;\n",
              "        box-shadow: 0px 1px 3px 1px rgba(0, 0, 0, 0.15);\n",
              "        filter: drop-shadow(0px 1px 2px rgba(0, 0, 0, 0.3));\n",
              "        fill: #FFFFFF;\n",
              "      }\n",
              "    </style>\n",
              "    <button class=\"colab-df-generate\" onclick=\"generateWithVariable('df')\"\n",
              "            title=\"Generate code using this dataframe.\"\n",
              "            style=\"display:none;\">\n",
              "\n",
              "  <svg xmlns=\"http://www.w3.org/2000/svg\" height=\"24px\"viewBox=\"0 0 24 24\"\n",
              "       width=\"24px\">\n",
              "    <path d=\"M7,19H8.4L18.45,9,17,7.55,7,17.6ZM5,21V16.75L18.45,3.32a2,2,0,0,1,2.83,0l1.4,1.43a1.91,1.91,0,0,1,.58,1.4,1.91,1.91,0,0,1-.58,1.4L9.25,21ZM18.45,9,17,7.55Zm-12,3A5.31,5.31,0,0,0,4.9,8.1,5.31,5.31,0,0,0,1,6.5,5.31,5.31,0,0,0,4.9,4.9,5.31,5.31,0,0,0,6.5,1,5.31,5.31,0,0,0,8.1,4.9,5.31,5.31,0,0,0,12,6.5,5.46,5.46,0,0,0,6.5,12Z\"/>\n",
              "  </svg>\n",
              "    </button>\n",
              "    <script>\n",
              "      (() => {\n",
              "      const buttonEl =\n",
              "        document.querySelector('#id_007e8ab0-e8b0-43ef-9e46-127c88df2cc1 button.colab-df-generate');\n",
              "      buttonEl.style.display =\n",
              "        google.colab.kernel.accessAllowed ? 'block' : 'none';\n",
              "\n",
              "      buttonEl.onclick = () => {\n",
              "        google.colab.notebook.generateWithVariable('df');\n",
              "      }\n",
              "      })();\n",
              "    </script>\n",
              "  </div>\n",
              "\n",
              "    </div>\n",
              "  </div>\n"
            ],
            "application/vnd.google.colaboratory.intrinsic+json": {
              "type": "dataframe",
              "variable_name": "df",
              "summary": "{\n  \"name\": \"df\",\n  \"rows\": 3,\n  \"fields\": [\n    {\n      \"column\": \"Model\",\n      \"properties\": {\n        \"dtype\": \"string\",\n        \"num_unique_values\": 3,\n        \"samples\": [\n          \"Random Forest\",\n          \"Logistic Regression\",\n          \"Naive Bayes\"\n        ],\n        \"semantic_type\": \"\",\n        \"description\": \"\"\n      }\n    },\n    {\n      \"column\": \"Best Score\",\n      \"properties\": {\n        \"dtype\": \"number\",\n        \"std\": 0.017137781103686755,\n        \"min\": 0.9302989092608686,\n        \"max\": 0.9614527861235564,\n        \"num_unique_values\": 3,\n        \"samples\": [\n          0.9302989092608686,\n          0.9582527451545012,\n          0.9614527861235564\n        ],\n        \"semantic_type\": \"\",\n        \"description\": \"\"\n      }\n    },\n    {\n      \"column\": \"Best Parameters\",\n      \"properties\": {\n        \"dtype\": \"string\",\n        \"num_unique_values\": 3,\n        \"samples\": [\n          \"{'max_depth': None, 'min_samples_leaf': 1, 'min_samples_split': 10, 'n_estimators': 200}\",\n          \"{'C': 1.0, 'penalty': 'l2', 'solver': 'saga'}\",\n          \"{'alpha': 0.1, 'fit_prior': True, 'force_alpha': True}\"\n        ],\n        \"semantic_type\": \"\",\n        \"description\": \"\"\n      }\n    },\n    {\n      \"column\": \"Test Set f1_macro\",\n      \"properties\": {\n        \"dtype\": \"number\",\n        \"std\": 0.012049160068811047,\n        \"min\": 0.9457364341085271,\n        \"max\": 0.9675828047921072,\n        \"num_unique_values\": 3,\n        \"samples\": [\n          0.9457364341085271,\n          0.9654686398872444,\n          0.9675828047921072\n        ],\n        \"semantic_type\": \"\",\n        \"description\": \"\"\n      }\n    }\n  ]\n}"
            }
          },
          "metadata": {},
          "execution_count": 6
        }
      ]
    },
    {
      "cell_type": "markdown",
      "source": [
        "# Multinomial Naive Bayes\n",
        "* **alpha**: parâmetro de suavização (smoothing) aditiva (Laplace/Lidstone)\n",
        "* **fit_prior**: se for True, o modelo aprende a priorizar classes. False significa que o modelo usa uma distribuição uniforme e não prioriza as classes\n",
        "* **force_alpha**: se for False e alpha for menor que 1e-10, alpha é fixado em 1e-10. Caso True, o alpha permanece inalterado em todos os casos."
      ],
      "metadata": {
        "id": "ks2jP14d_8Tc"
      }
    },
    {
      "cell_type": "code",
      "source": [
        "mnb = MultinomialNB(alpha =  0.1, fit_prior = True, force_alpha = True).fit(xtrain_tfidf, y_train)\n",
        "predicted = mnb.predict(xtest_tfidf)\n",
        "\n",
        "print(f\"Accuracy: {metrics.accuracy_score(y_test, predicted)}\")\n",
        "print(f\"F1 Score Macro: {f1_score(y_test, predicted, average='macro')}\")\n",
        "print(f\"F1 Score Micro: {f1_score(y_test, predicted, average='micro')}\")\n",
        "\n",
        "cm = confusion_matrix(y_test, predicted)\n",
        "plt.figure(figsize=(8, 6))\n",
        "sns.heatmap(cm, annot=True, fmt=\"d\", cmap=\"YlGnBu\", cbar=True, xticklabels=True, yticklabels=True)\n",
        "plt.title(\"Confusion Matrix\")\n",
        "plt.ylabel(\"True Label\")\n",
        "plt.xlabel(\"Predicted Label\")\n",
        "plt.show()"
      ],
      "metadata": {
        "colab": {
          "base_uri": "https://localhost:8080/",
          "height": 686
        },
        "id": "IhjgtTJX__Ps",
        "outputId": "5c675cf5-da11-47e4-d660-d957eb7e6d00"
      },
      "execution_count": 7,
      "outputs": [
        {
          "output_type": "stream",
          "name": "stdout",
          "text": [
            "Accuracy: 0.9548978153629316\n",
            "[[198   1   7   0]\n",
            " [  0 277   0   3]\n",
            " [  0   0 277  15]\n",
            " [  0   7  31 603]]\n",
            "F1 Score Macro: 0.9572600803677788\n",
            "F1 Score Micro: 0.9548978153629316\n"
          ]
        },
        {
          "output_type": "display_data",
          "data": {
            "text/plain": [
              "<Figure size 800x600 with 2 Axes>"
            ],
            "image/png": "[encoded data removed]"
          },
          "metadata": {}
        }
      ]
    },
    {
      "cell_type": "markdown",
      "source": [
        "# Logistic Regression\n",
        "* **C**: parâmetro responsável pelo inverso da força da regulatização. Quanto mais próximo de 0, mais forte é a regularização.\n",
        "* **solver**: algoritmo de escolha que será utilizado para a otimização. Foram escolhidos apenas 2 porque são os únicos que aceitam ambas regularizações l1 e l2.\n",
        "* **penalty**: especifica a norma da penalidade. l1, l2 ou ambas (elasticnet)"
      ],
      "metadata": {
        "id": "cacEqBI3Br91"
      }
    },
    {
      "cell_type": "code",
      "source": [
        "lreg = linear_model.LogisticRegression(C=1.0, penalty = 'l2', solver = 'saga')\n",
        "lreg.fit(xtrain_tfidf, y_train)\n",
        "predicted = lreg.predict(xtest_tfidf)\n",
        "\n",
        "print(f\"Accuracy: {metrics.accuracy_score(y_test, predicted)}\")\n",
        "print(f\"F1 Score Macro: {f1_score(y_test, predicted, average='macro')}\")\n",
        "print(f\"F1 Score Micro: {f1_score(y_test, predicted, average='micro')}\")\n",
        "\n",
        "cm = confusion_matrix(y_test, predicted)\n",
        "plt.figure(figsize=(8, 6))\n",
        "sns.heatmap(cm, annot=True, fmt=\"d\", cmap=\"YlGnBu\", cbar=True, xticklabels=True, yticklabels=True)\n",
        "plt.title(\"Confusion Matrix\")\n",
        "plt.ylabel(\"True Label\")\n",
        "plt.xlabel(\"Predicted Label\")\n",
        "plt.show()"
      ],
      "metadata": {
        "colab": {
          "base_uri": "https://localhost:8080/",
          "height": 616
        },
        "id": "_ZAkVV2gBu3V",
        "outputId": "d8a2508d-539c-4173-9cf4-62bd428df227"
      },
      "execution_count": 8,
      "outputs": [
        {
          "output_type": "stream",
          "name": "stdout",
          "text": [
            "Accuracy: 0.9534883720930233\n",
            "F1 Score Macro: 0.9540908051246658\n",
            "F1 Score Micro: 0.9534883720930233\n"
          ]
        },
        {
          "output_type": "display_data",
          "data": {
            "text/plain": [
              "<Figure size 800x600 with 2 Axes>"
            ],
            "image/png": "[encoded data removed]"
          },
          "metadata": {}
        }
      ]
    },
    {
      "cell_type": "markdown",
      "source": [
        "# Random Forest\n",
        "* **n_estimators**: número de árvores na forest\n",
        "* **max_depth**: A profundidade máxima da árvore\n",
        "* **min_samples_split**: o número mínimo de amostras necessárias para dividir um nó interno da árvore\n",
        "* **min_samples_leaf**: o número mínimo de amostras que pode estar em um nó folha"
      ],
      "metadata": {
        "id": "vdUnkZ1SCWdj"
      }
    },
    {
      "cell_type": "code",
      "source": [
        "random_f = RandomForestClassifier(n_estimators=200, max_depth = None, min_samples_leaf = 1, min_samples_split = 10).fit(xtrain_tfidf, y_train)\n",
        "predicted = random_f.predict(xtest_tfidf)\n",
        "\n",
        "print(f\"Accuracy: {metrics.accuracy_score(y_test, predicted)}\")\n",
        "print(f\"F1 Score Macro: {f1_score(y_test, predicted, average='macro')}\")\n",
        "print(f\"F1 Score Micro: {f1_score(y_test, predicted, average='micro')}\")\n",
        "\n",
        "cm = confusion_matrix(y_test, predicted)\n",
        "plt.figure(figsize=(8, 6))\n",
        "sns.heatmap(cm, annot=True, fmt=\"d\", cmap=\"YlGnBu\", cbar=True, xticklabels=True, yticklabels=True)\n",
        "plt.title(\"Confusion Matrix\")\n",
        "plt.ylabel(\"True Label\")\n",
        "plt.xlabel(\"Predicted Label\")\n",
        "plt.show()"
      ],
      "metadata": {
        "colab": {
          "base_uri": "https://localhost:8080/",
          "height": 616
        },
        "id": "EdXgM9UOCZCp",
        "outputId": "adf1843a-b213-497d-f37b-d96a993b8a4f"
      },
      "execution_count": 9,
      "outputs": [
        {
          "output_type": "stream",
          "name": "stdout",
          "text": [
            "Accuracy: 0.9189570119802678\n",
            "F1 Score Macro: 0.9161694182436114\n",
            "F1 Score Micro: 0.9189570119802678\n"
          ]
        },
        {
          "output_type": "display_data",
          "data": {
            "text/plain": [
              "<Figure size 800x600 with 2 Axes>"
            ],
            "image/png": "[encoded data removed]"
          },
          "metadata": {}
        }
      ]
    }
  ]
}